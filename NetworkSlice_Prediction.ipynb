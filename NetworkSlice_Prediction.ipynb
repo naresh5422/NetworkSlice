{
 "cells": [
  {
   "cell_type": "markdown",
   "id": "e4dd268a",
   "metadata": {},
   "source": [
    "## Network Slicing Prediction"
   ]
  },
  {
   "cell_type": "code",
   "execution_count": 4,
   "id": "42779747",
   "metadata": {},
   "outputs": [
    {
     "name": "stdout",
     "output_type": "stream",
     "text": [
      "Using matplotlib backend: QtAgg\n"
     ]
    }
   ],
   "source": [
    "import numpy as np\n",
    "import pandas as pd\n",
    "import matplotlib.pyplot as plt\n",
    "import seaborn as sns\n",
    "%matplotlib"
   ]
  },
  {
   "cell_type": "code",
   "execution_count": 6,
   "id": "8d181677",
   "metadata": {},
   "outputs": [],
   "source": [
    "train = pd.read_csv(\"train_dataset.csv\")\n",
    "test = pd.read_csv(\"test_dataset.csv\")"
   ]
  },
  {
   "cell_type": "code",
   "execution_count": 7,
   "id": "512d8cb1",
   "metadata": {},
   "outputs": [
    {
     "data": {
      "text/plain": [
       "((31583, 17), (31584, 16))"
      ]
     },
     "execution_count": 7,
     "metadata": {},
     "output_type": "execute_result"
    }
   ],
   "source": [
    "train.shape, test.shape"
   ]
  },
  {
   "cell_type": "code",
   "execution_count": 8,
   "id": "b5a4494c",
   "metadata": {},
   "outputs": [
    {
     "data": {
      "text/plain": [
       "Index(['LTE/5g Category', 'Time', 'Packet Loss Rate', 'Packet delay', 'IoT',\n",
       "       'LTE/5G', 'GBR', 'Non-GBR', 'AR/VR/Gaming', 'Healthcare',\n",
       "       'Industry 4.0', 'IoT Devices', 'Public Safety', 'Smart City & Home',\n",
       "       'Smart Transportation', 'Smartphone', 'slice Type'],\n",
       "      dtype='object')"
      ]
     },
     "execution_count": 8,
     "metadata": {},
     "output_type": "execute_result"
    }
   ],
   "source": [
    "train.columns"
   ]
  },
  {
   "cell_type": "code",
   "execution_count": 10,
   "id": "47dc2b4c",
   "metadata": {},
   "outputs": [
    {
     "name": "stdout",
     "output_type": "stream",
     "text": [
      "<class 'pandas.core.frame.DataFrame'>\n",
      "RangeIndex: 31583 entries, 0 to 31582\n",
      "Data columns (total 17 columns):\n",
      " #   Column                Non-Null Count  Dtype  \n",
      "---  ------                --------------  -----  \n",
      " 0   LTE/5g Category       31583 non-null  int64  \n",
      " 1   Time                  31583 non-null  int64  \n",
      " 2   Packet Loss Rate      31583 non-null  float64\n",
      " 3   Packet delay          31583 non-null  int64  \n",
      " 4   IoT                   31583 non-null  int64  \n",
      " 5   LTE/5G                31583 non-null  int64  \n",
      " 6   GBR                   31583 non-null  int64  \n",
      " 7   Non-GBR               31583 non-null  int64  \n",
      " 8   AR/VR/Gaming          31583 non-null  int64  \n",
      " 9   Healthcare            31583 non-null  int64  \n",
      " 10  Industry 4.0          31583 non-null  int64  \n",
      " 11  IoT Devices           31583 non-null  int64  \n",
      " 12  Public Safety         31583 non-null  int64  \n",
      " 13  Smart City & Home     31583 non-null  int64  \n",
      " 14  Smart Transportation  31583 non-null  int64  \n",
      " 15  Smartphone            31583 non-null  int64  \n",
      " 16  slice Type            31583 non-null  int64  \n",
      "dtypes: float64(1), int64(16)\n",
      "memory usage: 4.1 MB\n"
     ]
    }
   ],
   "source": [
    "train.info()"
   ]
  },
  {
   "cell_type": "code",
   "execution_count": 16,
   "id": "f9177d7c",
   "metadata": {},
   "outputs": [
    {
     "name": "stdout",
     "output_type": "stream",
     "text": [
      "Training dataset Missing Value status \n",
      "\n",
      "LTE/5g Category         0\n",
      "Time                    0\n",
      "Packet Loss Rate        0\n",
      "Packet delay            0\n",
      "IoT                     0\n",
      "LTE/5G                  0\n",
      "GBR                     0\n",
      "Non-GBR                 0\n",
      "AR/VR/Gaming            0\n",
      "Healthcare              0\n",
      "Industry 4.0            0\n",
      "IoT Devices             0\n",
      "Public Safety           0\n",
      "Smart City & Home       0\n",
      "Smart Transportation    0\n",
      "Smartphone              0\n",
      "slice Type              0\n",
      "dtype: int64\n",
      "\n",
      "Testing dataset Missing Value status \n",
      "\n",
      "LTE/5g Category         0\n",
      "Time                    0\n",
      "Packet Loss Rate        0\n",
      "Packet delay            0\n",
      "IoT                     0\n",
      "LTE/5G                  0\n",
      "GBR                     0\n",
      "Non-GBR                 0\n",
      "AR/VR/Gaming            0\n",
      "Healthcare              0\n",
      "Industry 4.0            0\n",
      "IoT Devices             0\n",
      "Public Safety           0\n",
      "Smart City & Home       0\n",
      "Smart Transportation    0\n",
      "Smartphone              0\n",
      "dtype: int64\n"
     ]
    }
   ],
   "source": [
    "print(f\"Training dataset Missing Value status \\n\\n{train.isna().sum()}\\n\")\n",
    "print(f\"Testing dataset Missing Value status \\n\\n{test.isna().sum()}\")"
   ]
  },
  {
   "cell_type": "markdown",
   "id": "ae47dffe",
   "metadata": {},
   "source": [
    "#### LTE/5G Category Probability Distribution with slice Type"
   ]
  },
  {
   "cell_type": "code",
   "execution_count": 55,
   "id": "82007837",
   "metadata": {},
   "outputs": [
    {
     "data": {
      "text/plain": [
       "([<matplotlib.axis.YTick at 0x7ff211884dc0>,\n",
       "  <matplotlib.axis.YTick at 0x7ff211884760>,\n",
       "  <matplotlib.axis.YTick at 0x7ff2118f2a70>],\n",
       " [Text(0, 0.0, '0.00'), Text(0, 0.01, '0.01'), Text(0, 0.02, '0.02')])"
      ]
     },
     "execution_count": 55,
     "metadata": {},
     "output_type": "execute_result"
    }
   ],
   "source": [
    "fig = plt.figure(figsize = (20, 10))\n",
    "\n",
    "# For training dataset\n",
    "plt.subplot(2,1,1)\n",
    "plt.title(\"Train Dataset 'LTE/5g Category' Probabilistic Distribution with 'slice Type'\", \n",
    "          fontsize=10)\n",
    "train_lte_hist = sns.histplot(data = train, \n",
    "                              x = \"LTE/5g Category\", \n",
    "                              stat = \"probability\",\n",
    "                            hue = \"slice Type\")\n",
    "plt.xticks(train[\"LTE/5g Category\"].value_counts().index, fontsize = 10)\n",
    "plt.xlabel(\"\", fontsize = 10)\n",
    "plt.ylabel(\"Probability\", fontsize = 10)\n",
    "plt.yticks(np.arange(0.000, 0.030, 0.005), fontsize = 10)\n",
    "plt.setp(train_lte_hist.get_legend().get_texts(), fontsize = '10')\n",
    "plt.setp(train_lte_hist.get_legend().get_title(), fontsize = '10')\n",
    "\n",
    "# for the test sets\n",
    "plt.subplot(2,1,2)\n",
    "plt.title(\"Test data 'LTE/5g Category' Probability Distribution\",\n",
    "         fontsize = 10)\n",
    "sns.histplot(data = test, x = 'LTE/5g Category', stat = \"probability\")\n",
    "plt.xticks(test['LTE/5g Category'].value_counts().index, fontsize = 10)\n",
    "plt.xlabel(\"LTE/5g Category\", fontsize = 10)\n",
    "plt.ylabel(\"Probability\", fontsize = 10)\n",
    "plt.yticks(np.arange(0.000, 0.030, 0.01), fontsize = 10)"
   ]
  },
  {
   "cell_type": "markdown",
   "id": "7b589b00",
   "metadata": {},
   "source": [
    "#### Time Feature with slice Type"
   ]
  },
  {
   "cell_type": "code",
   "execution_count": 69,
   "id": "a032e84e",
   "metadata": {},
   "outputs": [],
   "source": [
    "time_type_slice = pd.concat([train[\"Time\"], train['slice Type']], axis = 1)\n",
    "time = time_type_slice.value_counts().index.get_level_values(0)\n",
    "slice_type = time_type_slice.value_counts().index.get_level_values(1)"
   ]
  },
  {
   "cell_type": "code",
   "execution_count": 71,
   "id": "7c449b64",
   "metadata": {},
   "outputs": [],
   "source": [
    "plt.title(\"Train data 'Time' with 'slice Type'\")\n",
    "sns.scatterplot(x = time, y = slice_type, \n",
    "                hue = time_type_slice.value_counts().values)\n",
    "plt.show()"
   ]
  },
  {
   "cell_type": "code",
   "execution_count": 74,
   "id": "1a26c4b5",
   "metadata": {},
   "outputs": [
    {
     "name": "stdout",
     "output_type": "stream",
     "text": [
      "count    31583.000000\n",
      "mean        11.476459\n",
      "std          6.915643\n",
      "min          0.000000\n",
      "25%          6.000000\n",
      "50%         11.000000\n",
      "75%         17.000000\n",
      "max         23.000000\n",
      "Name: Time, dtype: float64\n"
     ]
    }
   ],
   "source": [
    "print(train[\"Time\"].describe())"
   ]
  },
  {
   "cell_type": "code",
   "execution_count": 81,
   "id": "9fa5a60e",
   "metadata": {},
   "outputs": [],
   "source": [
    "plt.figure(figsize = (18, 12))\n",
    "sns.scatterplot(data = train, x = \"Time\", y = \"LTE/5g Category\",\n",
    "               hue = \"slice Type\", palette=\"deep\")\n",
    "plt.xlabel(\"Time\")\n",
    "plt.ylabel(\"LTE/5G Category\")\n",
    "plt.show()"
   ]
  },
  {
   "cell_type": "markdown",
   "id": "4fa9042e",
   "metadata": {},
   "source": [
    "#### Packet Loss rate probability"
   ]
  },
  {
   "cell_type": "code",
   "execution_count": 118,
   "id": "8f668395",
   "metadata": {},
   "outputs": [],
   "source": [
    "fig = plt.figure(figsize = (18,12))\n",
    "# For the Train dataset\n",
    "plt.subplot(2,1,1)\n",
    "plt.title(\"train data 'Packet Loss Rate' probability distribution\", fontsize = 10)\n",
    "train_plr_hist = sns.histplot(data = train, x = \"Packet Loss Rate\",\n",
    "                             stat = \"probability\")\n",
    "plt.xticks(train[\"Packet Loss Rate\"].value_counts().index, fontsize = 10)\n",
    "plt.yticks(np.arange(0, 0.5, 0.1), fontsize = 10)\n",
    "plt.xlabel(\"\", fontsize = 10)\n",
    "plt.ylabel('Probabiblity', fontsize = 10)\n",
    "\n",
    "\n",
    "# For Test dataset\n",
    "plt.subplot(2, 1, 2)\n",
    "plt.title(\"Test Data 'Packet Loss Rate' probabilbity distribution\", fontsize = 10)\n",
    "test_plr_hist = sns.histplot(data = test, x = \"Packet Loss Rate\", \n",
    "                             stat = \"probability\",\n",
    "                            color = \"red\")\n",
    "plt.xticks(test[\"Packet Loss Rate\"].value_counts().index, fontsize = 10)\n",
    "plt.yticks(np.arange(0, 0.5, 0.1), fontsize = 10)\n",
    "plt.xlabel(\"Packet Loss Rate\", fontsize = 10)\n",
    "plt.ylabel(\"Probability\", fontsize = 10)\n",
    "\n",
    "plt.show()"
   ]
  },
  {
   "cell_type": "code",
   "execution_count": 124,
   "id": "32621926",
   "metadata": {},
   "outputs": [],
   "source": [
    "plt.figure(figsize = (18, 10))\n",
    "\n",
    "# For the train data\n",
    "plt.subplot(2,1,1)\n",
    "plt.title(\"Train data 'Packet Loss Rate' line plot\", fontsize = 15)\n",
    "plt.plot(train[\"Packet Loss Rate\"].value_counts(), marker = '*')\n",
    "plt.xticks(train[\"Packet Loss Rate\"].unique(), fontsize = 10)\n",
    "plt.yticks(train[\"Packet Loss Rate\"].value_counts(), fontsize = 10)\n",
    "plt.xlabel(\"\", fontsize = 10)\n",
    "plt.ylabel(\"Count\", fontsize = 10)\n",
    "\n",
    "# For Test data\n",
    "plt.subplot(2,1,2)\n",
    "plt.title(\"Test dataset 'Packet Loss Rate' line plot\", fontsize = 15)\n",
    "plt.plot(test[\"Packet Loss Rate\"].value_counts(), marker = \"D\", color = \"green\")\n",
    "plt.xticks(test[\"Packet Loss Rate\"].unique(), fontsize = 10)\n",
    "plt.yticks(test['Packet Loss Rate'].value_counts(), fontsize = 10)\n",
    "plt.xlabel(\"Packet Loss Rate\", fontsize = 10)\n",
    "plt.ylabel(\"Count\")\n",
    "\n",
    "plt.show()"
   ]
  },
  {
   "cell_type": "code",
   "execution_count": 137,
   "id": "9662057f",
   "metadata": {},
   "outputs": [],
   "source": [
    "## Train data KDE plot\n",
    "plt.figure(figsize = (18, 10))\n",
    "plt.subplot(1,2,1)\n",
    "plt.title(\"Train data 'Packet Delay' counts with 'slice Type'\", fontsize = 10)\n",
    "sns.histplot(data = train, x = 'Packet delay', hue = 'slice Type',\n",
    "            palette='deep', kde = True)\n",
    "\n",
    "# Test data KDE plot\n",
    "plt.subplot(1,2,2)\n",
    "plt.title(\"Test data 'Packet delay' probability distribution\", fontsize = 10)\n",
    "sns.histplot(data = test, x = \"Packet delay\",\n",
    "            stat = 'probability', kde = True)\n",
    "\n",
    "plt.show()"
   ]
  },
  {
   "cell_type": "code",
   "execution_count": 138,
   "id": "f251786c",
   "metadata": {},
   "outputs": [
    {
     "data": {
      "text/html": [
       "<div>\n",
       "<style scoped>\n",
       "    .dataframe tbody tr th:only-of-type {\n",
       "        vertical-align: middle;\n",
       "    }\n",
       "\n",
       "    .dataframe tbody tr th {\n",
       "        vertical-align: top;\n",
       "    }\n",
       "\n",
       "    .dataframe thead th {\n",
       "        text-align: right;\n",
       "    }\n",
       "</style>\n",
       "<table border=\"1\" class=\"dataframe\">\n",
       "  <thead>\n",
       "    <tr style=\"text-align: right;\">\n",
       "      <th></th>\n",
       "      <th>LTE/5g Category</th>\n",
       "      <th>Time</th>\n",
       "      <th>Packet Loss Rate</th>\n",
       "      <th>Packet delay</th>\n",
       "      <th>IoT</th>\n",
       "      <th>LTE/5G</th>\n",
       "      <th>GBR</th>\n",
       "      <th>Non-GBR</th>\n",
       "      <th>AR/VR/Gaming</th>\n",
       "      <th>Healthcare</th>\n",
       "      <th>Industry 4.0</th>\n",
       "      <th>IoT Devices</th>\n",
       "      <th>Public Safety</th>\n",
       "      <th>Smart City &amp; Home</th>\n",
       "      <th>Smart Transportation</th>\n",
       "      <th>Smartphone</th>\n",
       "      <th>slice Type</th>\n",
       "    </tr>\n",
       "  </thead>\n",
       "  <tbody>\n",
       "    <tr>\n",
       "      <th>0</th>\n",
       "      <td>14</td>\n",
       "      <td>0</td>\n",
       "      <td>0.000001</td>\n",
       "      <td>10</td>\n",
       "      <td>1</td>\n",
       "      <td>0</td>\n",
       "      <td>0</td>\n",
       "      <td>1</td>\n",
       "      <td>0</td>\n",
       "      <td>0</td>\n",
       "      <td>0</td>\n",
       "      <td>0</td>\n",
       "      <td>1</td>\n",
       "      <td>0</td>\n",
       "      <td>0</td>\n",
       "      <td>0</td>\n",
       "      <td>3</td>\n",
       "    </tr>\n",
       "    <tr>\n",
       "      <th>1</th>\n",
       "      <td>18</td>\n",
       "      <td>20</td>\n",
       "      <td>0.001000</td>\n",
       "      <td>100</td>\n",
       "      <td>0</td>\n",
       "      <td>1</td>\n",
       "      <td>1</td>\n",
       "      <td>0</td>\n",
       "      <td>1</td>\n",
       "      <td>0</td>\n",
       "      <td>0</td>\n",
       "      <td>0</td>\n",
       "      <td>0</td>\n",
       "      <td>0</td>\n",
       "      <td>0</td>\n",
       "      <td>0</td>\n",
       "      <td>1</td>\n",
       "    </tr>\n",
       "    <tr>\n",
       "      <th>2</th>\n",
       "      <td>17</td>\n",
       "      <td>14</td>\n",
       "      <td>0.000001</td>\n",
       "      <td>300</td>\n",
       "      <td>0</td>\n",
       "      <td>1</td>\n",
       "      <td>0</td>\n",
       "      <td>1</td>\n",
       "      <td>0</td>\n",
       "      <td>0</td>\n",
       "      <td>0</td>\n",
       "      <td>0</td>\n",
       "      <td>0</td>\n",
       "      <td>0</td>\n",
       "      <td>0</td>\n",
       "      <td>1</td>\n",
       "      <td>1</td>\n",
       "    </tr>\n",
       "    <tr>\n",
       "      <th>3</th>\n",
       "      <td>3</td>\n",
       "      <td>17</td>\n",
       "      <td>0.010000</td>\n",
       "      <td>100</td>\n",
       "      <td>0</td>\n",
       "      <td>1</td>\n",
       "      <td>0</td>\n",
       "      <td>1</td>\n",
       "      <td>0</td>\n",
       "      <td>0</td>\n",
       "      <td>0</td>\n",
       "      <td>0</td>\n",
       "      <td>0</td>\n",
       "      <td>0</td>\n",
       "      <td>0</td>\n",
       "      <td>1</td>\n",
       "      <td>1</td>\n",
       "    </tr>\n",
       "    <tr>\n",
       "      <th>4</th>\n",
       "      <td>9</td>\n",
       "      <td>4</td>\n",
       "      <td>0.010000</td>\n",
       "      <td>50</td>\n",
       "      <td>1</td>\n",
       "      <td>0</td>\n",
       "      <td>0</td>\n",
       "      <td>1</td>\n",
       "      <td>0</td>\n",
       "      <td>0</td>\n",
       "      <td>0</td>\n",
       "      <td>0</td>\n",
       "      <td>0</td>\n",
       "      <td>1</td>\n",
       "      <td>0</td>\n",
       "      <td>0</td>\n",
       "      <td>2</td>\n",
       "    </tr>\n",
       "  </tbody>\n",
       "</table>\n",
       "</div>"
      ],
      "text/plain": [
       "   LTE/5g Category  Time  Packet Loss Rate  Packet delay  IoT  LTE/5G  GBR  \\\n",
       "0               14     0          0.000001            10    1       0    0   \n",
       "1               18    20          0.001000           100    0       1    1   \n",
       "2               17    14          0.000001           300    0       1    0   \n",
       "3                3    17          0.010000           100    0       1    0   \n",
       "4                9     4          0.010000            50    1       0    0   \n",
       "\n",
       "   Non-GBR  AR/VR/Gaming  Healthcare  Industry 4.0  IoT Devices  \\\n",
       "0        1             0           0             0            0   \n",
       "1        0             1           0             0            0   \n",
       "2        1             0           0             0            0   \n",
       "3        1             0           0             0            0   \n",
       "4        1             0           0             0            0   \n",
       "\n",
       "   Public Safety  Smart City & Home  Smart Transportation  Smartphone  \\\n",
       "0              1                  0                     0           0   \n",
       "1              0                  0                     0           0   \n",
       "2              0                  0                     0           1   \n",
       "3              0                  0                     0           1   \n",
       "4              0                  1                     0           0   \n",
       "\n",
       "   slice Type  \n",
       "0           3  \n",
       "1           1  \n",
       "2           1  \n",
       "3           1  \n",
       "4           2  "
      ]
     },
     "execution_count": 138,
     "metadata": {},
     "output_type": "execute_result"
    }
   ],
   "source": [
    "train.head()"
   ]
  },
  {
   "cell_type": "code",
   "execution_count": 152,
   "id": "70c3eab2",
   "metadata": {},
   "outputs": [
    {
     "name": "stderr",
     "output_type": "stream",
     "text": [
      "/tmp/ipykernel_256411/2853583211.py:6: UserWarning: The palette list has more values (3) than needed (2), which may not be intended.\n",
      "  sns.histplot(data = train, x = 'slice Type', hue = \"IoT Devices\",\n"
     ]
    }
   ],
   "source": [
    "plt.figure(figsize = (18, 10))\n",
    "\n",
    "# IoT Device probabilty with slice type\n",
    "plt.subplot(1,2,1)\n",
    "plt.title(\"Train Data 'IoT Device' probability with 'slice Type'\", fontsize = 10)\n",
    "sns.histplot(data = train, x = 'slice Type', hue = \"IoT Devices\",\n",
    "            palette=sns.color_palette(\"bright\", 3), stat = 'probability', alpha = 0.5)\n",
    "\n",
    "# LTE/5G\n",
    "\n",
    "plt.subplot(1,2,2)\n",
    "plt.title(\"Train Data 'LTE/5G' probability with 'slice Type'\",\n",
    "         fontsize = 10)\n",
    "sns.histplot(data = train, x = 'slice Type', hue = 'LTE/5G',\n",
    "            palette='muted', stat = 'probability', alpha = 0.5)\n",
    "plt.show()"
   ]
  },
  {
   "cell_type": "code",
   "execution_count": 175,
   "id": "8eca8eb1",
   "metadata": {},
   "outputs": [
    {
     "name": "stdout",
     "output_type": "stream",
     "text": [
      "   GBR  slice Type  Counts\n",
      "0    1           1    8422\n",
      "1    0           1    8377\n",
      "2    0           3    7392\n",
      "3    1           2    5512\n",
      "4    0           2    1880\n"
     ]
    }
   ],
   "source": [
    "# Find the counts of each slice for GBR\n",
    "GBR_slice_type = pd.concat([train[\"GBR\"], train['slice Type']], axis = 1)\n",
    "GBR = pd.DataFrame(GBR_slice_type.value_counts().index.get_level_values(0).values, columns = ['GBR'])\n",
    "slice_type = pd.DataFrame(GBR_slice_type.value_counts().index.get_level_values(1).values,\n",
    "                         columns = ['slice Type'])\n",
    "counts = pd.DataFrame(GBR_slice_type.value_counts().values, columns = ['Counts'])\n",
    "gbr_slice_type = pd.concat([GBR, slice_type, counts], axis = 1)\n",
    "print(gbr_slice_type)"
   ]
  },
  {
   "cell_type": "code",
   "execution_count": 182,
   "id": "3ce58a93",
   "metadata": {},
   "outputs": [
    {
     "name": "stderr",
     "output_type": "stream",
     "text": [
      "/home/cdot/.local/lib/python3.10/site-packages/seaborn/axisgrid.py:118: UserWarning: The figure layout has changed to tight\n",
      "  self._figure.tight_layout(*args, **kwargs)\n"
     ]
    }
   ],
   "source": [
    "#LmPlot the GBR with slice Type total counts\n",
    "\n",
    "sns.lmplot(data = gbr_slice_type, \n",
    "           x = \"GBR\", \n",
    "           y = \"Counts\", \n",
    "           hue = \"slice Type\").set(\n",
    "    title = \"Train data each slice Type counts by 'GBR' feature\")\n",
    "\n",
    "plt.show()"
   ]
  },
  {
   "cell_type": "code",
   "execution_count": 183,
   "id": "31655b4a",
   "metadata": {},
   "outputs": [
    {
     "name": "stderr",
     "output_type": "stream",
     "text": [
      "/home/cdot/.local/lib/python3.10/site-packages/seaborn/axisgrid.py:118: UserWarning: The figure layout has changed to tight\n",
      "  self._figure.tight_layout(*args, **kwargs)\n"
     ]
    },
    {
     "data": {
      "text/plain": [
       "<seaborn.axisgrid.FacetGrid at 0x7ff2173aa9e0>"
      ]
     },
     "execution_count": 183,
     "metadata": {},
     "output_type": "execute_result"
    }
   ],
   "source": [
    "## Visualize the 'AR/VR/Gaming' with LTE/5G using DisPlot\n",
    "sns.displot(data = train, x = \"AR/VR/Gaming\", \n",
    "            y = \"LTE/5G\",hue = 'slice Type', \n",
    "            palette = 'bright')"
   ]
  }
 ],
 "metadata": {
  "kernelspec": {
   "display_name": "Python 3 (ipykernel)",
   "language": "python",
   "name": "python3"
  },
  "language_info": {
   "codemirror_mode": {
    "name": "ipython",
    "version": 3
   },
   "file_extension": ".py",
   "mimetype": "text/x-python",
   "name": "python",
   "nbconvert_exporter": "python",
   "pygments_lexer": "ipython3",
   "version": "3.10.12"
  }
 },
 "nbformat": 4,
 "nbformat_minor": 5
}
