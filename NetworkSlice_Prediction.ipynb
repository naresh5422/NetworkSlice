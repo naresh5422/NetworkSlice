{
 "cells": [
  {
   "cell_type": "markdown",
   "id": "9e11b4a4",
   "metadata": {},
   "source": [
    "## Network Slicing Prediction"
   ]
  },
  {
   "cell_type": "code",
   "execution_count": 4,
   "id": "c15af44f",
   "metadata": {},
   "outputs": [
    {
     "name": "stdout",
     "output_type": "stream",
     "text": [
      "Using matplotlib backend: QtAgg\n"
     ]
    }
   ],
   "source": [
    "import numpy as np\n",
    "import pandas as pd\n",
    "import matplotlib.pyplot as plt\n",
    "import seaborn as sns\n",
    "%matplotlib"
   ]
  },
  {
   "cell_type": "code",
   "execution_count": 6,
   "id": "76f0e92d",
   "metadata": {},
   "outputs": [],
   "source": [
    "train = pd.read_csv(\"train_dataset.csv\")\n",
    "test = pd.read_csv(\"test_dataset.csv\")"
   ]
  },
  {
   "cell_type": "code",
   "execution_count": 7,
   "id": "0b5c7e1c",
   "metadata": {},
   "outputs": [
    {
     "data": {
      "text/plain": [
       "((31583, 17), (31584, 16))"
      ]
     },
     "execution_count": 7,
     "metadata": {},
     "output_type": "execute_result"
    }
   ],
   "source": [
    "train.shape, test.shape"
   ]
  },
  {
   "cell_type": "code",
   "execution_count": 8,
   "id": "700d1913",
   "metadata": {},
   "outputs": [
    {
     "data": {
      "text/plain": [
       "Index(['LTE/5g Category', 'Time', 'Packet Loss Rate', 'Packet delay', 'IoT',\n",
       "       'LTE/5G', 'GBR', 'Non-GBR', 'AR/VR/Gaming', 'Healthcare',\n",
       "       'Industry 4.0', 'IoT Devices', 'Public Safety', 'Smart City & Home',\n",
       "       'Smart Transportation', 'Smartphone', 'slice Type'],\n",
       "      dtype='object')"
      ]
     },
     "execution_count": 8,
     "metadata": {},
     "output_type": "execute_result"
    }
   ],
   "source": [
    "train.columns"
   ]
  },
  {
   "cell_type": "code",
   "execution_count": 10,
   "id": "40f920cb",
   "metadata": {},
   "outputs": [
    {
     "name": "stdout",
     "output_type": "stream",
     "text": [
      "<class 'pandas.core.frame.DataFrame'>\n",
      "RangeIndex: 31583 entries, 0 to 31582\n",
      "Data columns (total 17 columns):\n",
      " #   Column                Non-Null Count  Dtype  \n",
      "---  ------                --------------  -----  \n",
      " 0   LTE/5g Category       31583 non-null  int64  \n",
      " 1   Time                  31583 non-null  int64  \n",
      " 2   Packet Loss Rate      31583 non-null  float64\n",
      " 3   Packet delay          31583 non-null  int64  \n",
      " 4   IoT                   31583 non-null  int64  \n",
      " 5   LTE/5G                31583 non-null  int64  \n",
      " 6   GBR                   31583 non-null  int64  \n",
      " 7   Non-GBR               31583 non-null  int64  \n",
      " 8   AR/VR/Gaming          31583 non-null  int64  \n",
      " 9   Healthcare            31583 non-null  int64  \n",
      " 10  Industry 4.0          31583 non-null  int64  \n",
      " 11  IoT Devices           31583 non-null  int64  \n",
      " 12  Public Safety         31583 non-null  int64  \n",
      " 13  Smart City & Home     31583 non-null  int64  \n",
      " 14  Smart Transportation  31583 non-null  int64  \n",
      " 15  Smartphone            31583 non-null  int64  \n",
      " 16  slice Type            31583 non-null  int64  \n",
      "dtypes: float64(1), int64(16)\n",
      "memory usage: 4.1 MB\n"
     ]
    }
   ],
   "source": [
    "train.info()"
   ]
  },
  {
   "cell_type": "code",
   "execution_count": 16,
   "id": "7251fc96",
   "metadata": {},
   "outputs": [
    {
     "name": "stdout",
     "output_type": "stream",
     "text": [
      "Training dataset Missing Value status \n",
      "\n",
      "LTE/5g Category         0\n",
      "Time                    0\n",
      "Packet Loss Rate        0\n",
      "Packet delay            0\n",
      "IoT                     0\n",
      "LTE/5G                  0\n",
      "GBR                     0\n",
      "Non-GBR                 0\n",
      "AR/VR/Gaming            0\n",
      "Healthcare              0\n",
      "Industry 4.0            0\n",
      "IoT Devices             0\n",
      "Public Safety           0\n",
      "Smart City & Home       0\n",
      "Smart Transportation    0\n",
      "Smartphone              0\n",
      "slice Type              0\n",
      "dtype: int64\n",
      "\n",
      "Testing dataset Missing Value status \n",
      "\n",
      "LTE/5g Category         0\n",
      "Time                    0\n",
      "Packet Loss Rate        0\n",
      "Packet delay            0\n",
      "IoT                     0\n",
      "LTE/5G                  0\n",
      "GBR                     0\n",
      "Non-GBR                 0\n",
      "AR/VR/Gaming            0\n",
      "Healthcare              0\n",
      "Industry 4.0            0\n",
      "IoT Devices             0\n",
      "Public Safety           0\n",
      "Smart City & Home       0\n",
      "Smart Transportation    0\n",
      "Smartphone              0\n",
      "dtype: int64\n"
     ]
    }
   ],
   "source": [
    "print(f\"Training dataset Missing Value status \\n\\n{train.isna().sum()}\\n\")\n",
    "print(f\"Testing dataset Missing Value status \\n\\n{test.isna().sum()}\")"
   ]
  },
  {
   "cell_type": "markdown",
   "id": "c913d0d8",
   "metadata": {},
   "source": [
    "#### LTE/5G Category Probability Distribution with slice Type"
   ]
  },
  {
   "cell_type": "code",
   "execution_count": 50,
   "id": "1571e6b6",
   "metadata": {},
   "outputs": [
    {
     "data": {
      "text/plain": [
       "([<matplotlib.axis.YTick at 0x7ff212e82fe0>,\n",
       "  <matplotlib.axis.YTick at 0x7ff212e82980>,\n",
       "  <matplotlib.axis.YTick at 0x7ff212d2a680>],\n",
       " [Text(0, 0.0, '0.00'), Text(0, 0.01, '0.01'), Text(0, 0.02, '0.02')])"
      ]
     },
     "execution_count": 50,
     "metadata": {},
     "output_type": "execute_result"
    }
   ],
   "source": [
    "fig = plt.figure(figsize = (20, 10))\n",
    "\n",
    "# For training dataset\n",
    "plt.subplot(2,1,1)\n",
    "plt.title(\"Train Dataset 'LTE/5g Category' Probabilistic Distribution with 'slice Type'\", \n",
    "          fontsize=10)\n",
    "train_lte_hist = sns.histplot(data = train, \n",
    "                              x = \"LTE/5g Category\", \n",
    "                              stat = \"probability\",\n",
    "                            hue = \"slice Type\")\n",
    "plt.xticks(train[\"LTE/5g Category\"].value_counts().index, fontsize = 10)\n",
    "plt.xlabel(\"\", fontsize = 10)\n",
    "plt.ylabel(\"Probability\", fontsize = 10)\n",
    "plt.yticks(np.arange(0.000, 0.030, 0.005), fontsize = 10)\n",
    "plt.setp(train_lte_hist.get_legend().get_texts(), fontsize = '10')\n",
    "plt.setp(train_lte_hist.get_legend().get_title(), fontsize = '10')\n",
    "\n",
    "# for the test sets\n",
    "plt.subplot(2,1,2)\n",
    "plt.title(\"Test data 'LTE/5g Category' Probability Distribution\",\n",
    "         fontsize = 10)\n",
    "sns.histplot(data = test, x = 'LTE/5g Category', stat = \"probability\")\n",
    "plt.xticks(test['LTE/5g Category'].value_counts().index, fontsize = 10)\n",
    "plt.xlabel(\"LTE/5g Category\", fontsize = 10)\n",
    "plt.ylabel(\"Probability\", fontsize = 10)\n",
    "plt.yticks(np.arange(0.000, 0.030, 0.01), fontsize = 10)"
   ]
  },
  {
   "cell_type": "markdown",
   "id": "c58e300c",
   "metadata": {},
   "source": [
    "#### Time Feature with slice Type"
   ]
  },
  {
   "cell_type": "code",
   "execution_count": null,
   "id": "67395959",
   "metadata": {},
   "outputs": [],
   "source": []
  }
 ],
 "metadata": {
  "kernelspec": {
   "display_name": "Python 3 (ipykernel)",
   "language": "python",
   "name": "python3"
  },
  "language_info": {
   "codemirror_mode": {
    "name": "ipython",
    "version": 3
   },
   "file_extension": ".py",
   "mimetype": "text/x-python",
   "name": "python",
   "nbconvert_exporter": "python",
   "pygments_lexer": "ipython3",
   "version": "3.10.12"
  }
 },
 "nbformat": 4,
 "nbformat_minor": 5
}
